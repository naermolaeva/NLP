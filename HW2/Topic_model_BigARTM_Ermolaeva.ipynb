{
 "cells": [
  {
   "cell_type": "markdown",
   "metadata": {
    "colab_type": "text",
    "id": "DGYYCeQh0YFl"
   },
   "source": [
    "## Домашнее задание"
   ]
  },
  {
   "cell_type": "markdown",
   "metadata": {
    "colab_type": "text",
    "id": "-Gg8h2Ek0YFl"
   },
   "source": [
    "Основаная задача - **построить хорошую тематическую модель с интерпретируемыми топиками с помощью BigARTM**.\n",
    "\n",
    "1) сделайте нормализацию (если pymorphy2 работает долго используйте mystem или попробуйте установить быструю версию - `pip install pymorphy2[fast]`, можно использовать какой-то другой токенизатор) \n",
    "\n",
    "2) добавьте нграммы (в тетрадке есть закомменченая ячейка с Phrases, можно также попробовать другие способы построить нграммы); \n",
    "\n",
    "3) сохраните тексты .vw формате;\n",
    "\n",
    "4) сделайте хороший словарь (отфильтруйте слишком частотные и редкие слова, попробуйте удалить стоп-слова, сохраните словарь и посмотрите на него, вдруг что-то плохое сразу будет заметно - из словаря можно просто вручную или правилом удалять строки, при загрузке ничего не сломается); \n",
    "\n",
    "5) постройте несколько ARTM моделей (переберите количество тем, поменяйте значения tau у регуляризаторов), если получаются плохие темы, поработайте дополнительно над предобработкой и словарем; \n",
    "\n",
    "6) для самой хорошей модели в отдельной ячейке напечатайте 3 хороших (на ваш вкус) темы\n",
    "\n",
    "7) в другой ячейке нарисуйте график обучения этой модели \n",
    "\n",
    "8) в третьей ячейки опишите какие параметры (количество тем, регуляризаторы, их tau) вы использовали и как обучали (например, после скольки проходов добавили регуляризатор разрежнивания тем (Phi), добавляли ли разреженность документам (Theta) и когда, как повышали значения, сколько итерации модель продожала улучшаться (снижалась перплексия, росли другие метрики);\n",
    "\n",
    "Сохраните тетрадку с экспериментами и положите её на гитхаб, ссылку на неё укажите в форме.\n",
    "\n",
    "**Оцениваться будут главным образом пункты 6, 7 и 8. (3, 1, 4 баллов соответственно). Чтобы заработать остальные 2 балла, нужно хотя бы немного изменить мой код на промежуточных этапах (добавить что-то, указать другие параметры и т.д). **"
   ]
  },
  {
   "cell_type": "code",
   "execution_count": 97,
   "metadata": {
    "colab": {},
    "colab_type": "code",
    "id": "syGkglti0YFf"
   },
   "outputs": [],
   "source": [
    "import artm\n",
    "%matplotlib inline\n",
    "import glob\n",
    "import os, re\n",
    "import matplotlib.pyplot as plt\n",
    "from collections import defaultdict, Counter\n",
    "from nltk.corpus import stopwords\n",
    "import numpy as np\n",
    "from pymorphy2 import MorphAnalyzer\n",
    "import gensim, nltk\n",
    "morph = MorphAnalyzer()\n",
    "from nltk.tokenize import word_tokenize"
   ]
  },
  {
   "cell_type": "code",
   "execution_count": 98,
   "metadata": {
    "colab": {},
    "colab_type": "code",
    "id": "DzdHfztLA1L8"
   },
   "outputs": [
    {
     "name": "stdout",
     "output_type": "stream",
     "text": [
      "[nltk_data] Downloading package punkt to /Users/nata/nltk_data...\n",
      "[nltk_data]   Package punkt is already up-to-date!\n"
     ]
    },
    {
     "data": {
      "text/plain": [
       "True"
      ]
     },
     "execution_count": 98,
     "metadata": {},
     "output_type": "execute_result"
    }
   ],
   "source": [
    "nltk.download('punkt')"
   ]
  },
  {
   "cell_type": "code",
   "execution_count": 3,
   "metadata": {
    "colab": {},
    "colab_type": "code",
    "collapsed": true,
    "id": "1hLw-SVu0YFm"
   },
   "outputs": [],
   "source": [
    "def remove_tags(text):\n",
    "    return re.sub(r'<[^>]+>', '', text)\n",
    "\n",
    "def clean(words):\n",
    "    clean = [morph.parse(word)[0].normal_form for word in words if word.isalnum()]\n",
    "    return clean"
   ]
  },
  {
   "cell_type": "markdown",
   "metadata": {
    "colab_type": "text",
    "id": "vlgqYxw90YFp"
   },
   "source": [
    "## Возьмем те же данные"
   ]
  },
  {
   "cell_type": "code",
   "execution_count": 4,
   "metadata": {
    "colab": {},
    "colab_type": "code",
    "collapsed": true,
    "id": "NDHkAaPb0YFp"
   },
   "outputs": [],
   "source": [
    "habr_texts = [clean(word_tokenize(remove_tags(text.lower()))) for text in open('habr_texts.txt')]"
   ]
  },
  {
   "cell_type": "code",
   "execution_count": 5,
   "metadata": {
    "colab": {},
    "colab_type": "code",
    "collapsed": true,
    "id": "o_yHUX490YFr"
   },
   "outputs": [],
   "source": [
    "# вернемся сюда через какое-то время\n",
    "# ph = gensim.models.Phrases(habr_texts, scoring='npmi', threshold=0.3, \n",
    "#                            common_terms=set(stopwords.words('russian'))) # можно указать слова, которые \n",
    "                                                                          # не будут учитываться\n",
    "# p = gensim.models.phrases.Phraser(ph)\n",
    "# ngrammed_habr_texts = p[habr_texts]"
   ]
  },
  {
   "cell_type": "code",
   "execution_count": 6,
   "metadata": {
    "colab": {},
    "colab_type": "code",
    "collapsed": true,
    "id": "5q3JXJV40YFt"
   },
   "outputs": [],
   "source": [
    "# p[habr_texts[1]]"
   ]
  },
  {
   "cell_type": "markdown",
   "metadata": {},
   "source": [
    "**Немного изменим предобработку текстов (воспользуемся `mystem` и удалим \"мусор\")**"
   ]
  },
  {
   "cell_type": "code",
   "execution_count": 99,
   "metadata": {
    "collapsed": true
   },
   "outputs": [],
   "source": [
    "import warnings\n",
    "warnings.filterwarnings(\"ignore\")"
   ]
  },
  {
   "cell_type": "code",
   "execution_count": 100,
   "metadata": {
    "collapsed": true
   },
   "outputs": [],
   "source": [
    "from string import punctuation\n",
    "from pymystem3 import Mystem"
   ]
  },
  {
   "cell_type": "code",
   "execution_count": 101,
   "metadata": {
    "collapsed": true
   },
   "outputs": [],
   "source": [
    "russian_stopwords = set(stopwords.words('russian')) | {'gt',} | {'lt',} | {'if',} | {'for',}"
   ]
  },
  {
   "cell_type": "code",
   "execution_count": 102,
   "metadata": {
    "collapsed": true
   },
   "outputs": [],
   "source": [
    "punct = punctuation + '«»—…“”*№–'\n",
    "mystem = Mystem()"
   ]
  },
  {
   "cell_type": "code",
   "execution_count": 103,
   "metadata": {},
   "outputs": [],
   "source": [
    "def preprocessing(text):\n",
    "    text = re.sub('\\s{2,}', '', text)\n",
    "    regex = re.compile('[^a-zA-ZА-Яа-я]') # );\\t}\\t -- достаточно много подобных сочетаний различных символов\n",
    "    text = regex.sub(' ', text)\n",
    "    tokens = mystem.lemmatize(text)\n",
    "    tokens = [token for token in tokens if token not in russian_stopwords \\\n",
    "              and token != ' '  \\\n",
    "              and token.strip() not in punct \\\n",
    "              and len(token) > 2]\n",
    "    \n",
    "    return tokens"
   ]
  },
  {
   "cell_type": "code",
   "execution_count": 104,
   "metadata": {
    "collapsed": true
   },
   "outputs": [],
   "source": [
    "texts = open('habr_texts.txt').read().splitlines()"
   ]
  },
  {
   "cell_type": "code",
   "execution_count": 105,
   "metadata": {
    "collapsed": true
   },
   "outputs": [],
   "source": [
    "texts = [preprocessing(remove_tags(text.lower())) for text in texts]"
   ]
  },
  {
   "cell_type": "markdown",
   "metadata": {
    "colab_type": "text",
    "id": "vOiEF_5H0YFv"
   },
   "source": [
    "Для BigARTM требуется специальный формат данных. Их несколько, но мы возьмем vowpal wabbit.  \n",
    "На каждой строчке файла находится одельный текст, записывается такст вот таким образом:  \n",
    "```doc_name |@class_id word_1:1 word_2:3```  \n",
    "\n",
    "|@class_id - задает модальность, но когда она одна её можно не указывать.\n",
    "\n",
    "word_2:3 - слово и его частота (обратите внимание, что : - специальный символ и в словах его быть не может"
   ]
  },
  {
   "cell_type": "code",
   "execution_count": 107,
   "metadata": {
    "colab": {},
    "colab_type": "code",
    "collapsed": true,
    "id": "SZD1bmhR0YFw"
   },
   "outputs": [],
   "source": [
    "f = open('habr_texts.vw', 'w')\n",
    "\n",
    "for i, text in enumerate(texts):\n",
    "    c = Counter(text)\n",
    "    doc = 'doc_' + str(i) + ' '\n",
    "    vw_text = ' '.join([x + ':' + str(c[x]) for x in c])\n",
    "    \n",
    "    f.write(doc + vw_text  + '\\n')\n",
    "f.close()"
   ]
  },
  {
   "cell_type": "markdown",
   "metadata": {
    "colab_type": "text",
    "id": "VO4xO6zT0YFy"
   },
   "source": [
    "Для оценки будем использовать такую функцию (из туториалов от создателей библиотеки)"
   ]
  },
  {
   "cell_type": "code",
   "execution_count": 108,
   "metadata": {
    "colab": {},
    "colab_type": "code",
    "collapsed": true,
    "id": "xchX4sBs0YFz"
   },
   "outputs": [],
   "source": [
    "def print_measures(model_artm):\n",
    "    print('Sparsity Phi: {0:.3f} ARTM)'.format(\n",
    "        model_artm.score_tracker['SparsityPhiScore'].last_value)\n",
    ")\n",
    "    print('Sparsity Theta: {0:.3f} (ARTM)'.format(\n",
    "        model_artm.score_tracker['SparsityThetaScore'].last_value))\n",
    "\n",
    "    print('Kernel contrast: {0:.3f} (ARTM)'.format(\n",
    "        model_artm.score_tracker['TopicKernelScore'].last_average_contrast))\n",
    "\n",
    "    print('Kernel purity: {0:.3f} (ARTM)'.format(\n",
    "        model_artm.score_tracker['TopicKernelScore'].last_average_purity))\n",
    "\n",
    "    print('Perplexity: {0:.3f} (ARTM)'.format(\n",
    "        model_artm.score_tracker['PerplexityScore'].last_value)\n",
    ")\n",
    "    plt.plot(range(model_artm.num_phi_updates), model_artm.score_tracker['PerplexityScore'].value, 'r--', linewidth=2)\n",
    "    plt.xlabel('Iterations count')\n",
    "    plt.ylabel(' ARTM perp. (red)')\n",
    "    plt.grid(True)\n",
    "    plt.show()"
   ]
  },
  {
   "cell_type": "markdown",
   "metadata": {
    "colab_type": "text",
    "id": "GHFVe6gK0YF2"
   },
   "source": [
    "BigARTM работает не с целым файлом, а с кусочками. Поэтому разбиваем наш .vw файл специальным классом в artm."
   ]
  },
  {
   "cell_type": "code",
   "execution_count": 109,
   "metadata": {
    "colab": {},
    "colab_type": "code",
    "collapsed": true,
    "id": "NhIADC8O0YF2"
   },
   "outputs": [],
   "source": [
    "batch_vectorizer = artm.BatchVectorizer(data_path='habr_texts.vw',  # название файла\n",
    "                                        data_format='vowpal_wabbit', # формат файла, у нас vw\n",
    "                                        target_folder='batches', # название папки в которую положаться батчи\n",
    "                                        batch_size=1000) # размер батча, подбирайте под свою память"
   ]
  },
  {
   "cell_type": "markdown",
   "metadata": {
    "colab_type": "text",
    "id": "ZjXpddzi0YF6"
   },
   "source": [
    "Уже созданные батчи можно заново загружать"
   ]
  },
  {
   "cell_type": "code",
   "execution_count": 110,
   "metadata": {
    "colab": {},
    "colab_type": "code",
    "collapsed": true,
    "id": "AG7xR0gu0YF6"
   },
   "outputs": [],
   "source": [
    "batch_vectorizer = artm.BatchVectorizer(data_path='batches', # название папки с батчами\n",
    "                                        data_format='batches') # указываем формат - батчи"
   ]
  },
  {
   "cell_type": "code",
   "execution_count": 111,
   "metadata": {
    "colab": {},
    "colab_type": "code",
    "collapsed": true,
    "id": "Qe0-ERcn0YF8"
   },
   "outputs": [],
   "source": [
    "# инициализируем словарь, чтобы сделать модель\n",
    "dictionary = artm.Dictionary()"
   ]
  },
  {
   "cell_type": "markdown",
   "metadata": {
    "colab_type": "text",
    "id": "sNAKhYQZ0YF-"
   },
   "source": [
    "Собираем словарь по батчам"
   ]
  },
  {
   "cell_type": "code",
   "execution_count": 112,
   "metadata": {
    "colab": {
     "base_uri": "https://localhost:8080/",
     "height": 35
    },
    "colab_type": "code",
    "id": "S6nXvdOq0YGA",
    "outputId": "9802db26-11a2-4475-f5e7-51214d748f3e"
   },
   "outputs": [
    {
     "data": {
      "text/plain": [
       "artm.Dictionary(name=3fd67e4b-61d1-42ea-a429-1538b65eb0b1, num_entries=15117)"
      ]
     },
     "execution_count": 112,
     "metadata": {},
     "output_type": "execute_result"
    }
   ],
   "source": [
    "dictionary.gather(data_path='batches')\n",
    "dictionary.filter(class_id='@default_class',\n",
    "                  min_df=10, max_df=2000)"
   ]
  },
  {
   "cell_type": "markdown",
   "metadata": {
    "colab_type": "text",
    "id": "HEuyJjlB0YGB"
   },
   "source": [
    "Его можно сохранить, чтобы не создавать снова или чтобы посмотреть и подредактировать."
   ]
  },
  {
   "cell_type": "code",
   "execution_count": 113,
   "metadata": {
    "colab": {},
    "colab_type": "code",
    "collapsed": true,
    "id": "I273a14r0YGC"
   },
   "outputs": [],
   "source": [
    "dictionary.save_text('dict.txt')\n",
    "# dictionary = artm.Dictionary()\n",
    "# dictionary.load_text('dict.txt')"
   ]
  },
  {
   "cell_type": "markdown",
   "metadata": {},
   "source": [
    "**Посмотрим на словарь**"
   ]
  },
  {
   "cell_type": "code",
   "execution_count": 181,
   "metadata": {
    "collapsed": true
   },
   "outputs": [],
   "source": [
    "with open('dict.txt', 'r', encoding='utf-8') as f:\n",
    "    f = f.read().splitlines()"
   ]
  },
  {
   "cell_type": "code",
   "execution_count": 182,
   "metadata": {},
   "outputs": [
    {
     "data": {
      "text/plain": [
       "['name: 3fd67e4b-61d1-42ea-a429-1538b65eb0b1 num_items: 4121',\n",
       " 'token, class_id, token_value, token_tf, token_df',\n",
       " 'шоппинг, @default_class, 5.192651315155672e-06, 19.0, 16.0',\n",
       " 'зато, @default_class, 0.0001106854688259773, 405.0, 333.0',\n",
       " 'priority, @default_class, 2.213709376519546e-05, 81.0, 42.0',\n",
       " 'условно, @default_class, 4.31809967267327e-05, 158.0, 105.0',\n",
       " 'username, @default_class, 0.00011724460637196898, 429.0, 95.0',\n",
       " 'правило, @default_class, 0.0005933287320658565, 2171.0, 981.0',\n",
       " 'experience, @default_class, 1.4758062206965405e-05, 54.0, 37.0',\n",
       " 'выгорать, @default_class, 5.465949016070226e-06, 20.0, 16.0']"
      ]
     },
     "execution_count": 182,
     "metadata": {},
     "output_type": "execute_result"
    }
   ],
   "source": [
    "f[:10]"
   ]
  },
  {
   "cell_type": "markdown",
   "metadata": {},
   "source": [
    "**В словаре достаточно часто встречаются 2-буквенные сочетания (th, xx и др.), удалим их (в предобработке изменим `len(token) > 1` на `len(token) > 2`). В остальном, благодаря предобработке текстов, словарь получился без большого количества \"мусора\".**"
   ]
  },
  {
   "cell_type": "markdown",
   "metadata": {
    "colab_type": "text",
    "id": "bdMCSZiB0YGE"
   },
   "source": [
    "Создаем модель и сразу включаем два регуляризатора (Декореляции и Сглаживания)"
   ]
  },
  {
   "cell_type": "markdown",
   "metadata": {
    "colab_type": "text",
    "id": "LXN_YR1m0YGF"
   },
   "source": [
    "`artm.DecorrelatorPhiRegularizer` - регуляризатор декорреляции тем, делает темы менее похожими друг на друга (рекомендуется включать его сразу на всех темах с положительным значением tau и не менять его в процессе обучения)  \n",
    "\n",
    "`artm.SmoothSparsePhiRegularizer` - регуляризатор сглаживания/разреженивания Phi (тем) - сглаживает или расреживает распределение слов в темах (отрицательный tau - разреживает, положительный - сглаживает), рекомендуется сразу включать сглаживание на всех темах и не менять его в процессе обучения;\n",
    "\n",
    "Количество тем нужно подбирать, но 200 часто работает хорошо. Снижение количества тем и уменьшения словаря ведут к уменьшению времени обучения модели (а увеличение, наоборот). "
   ]
  },
  {
   "cell_type": "code",
   "execution_count": 116,
   "metadata": {
    "colab": {},
    "colab_type": "code",
    "collapsed": true,
    "id": "7gTUMUh90YGG"
   },
   "outputs": [],
   "source": [
    "model_artm = artm.ARTM(topic_names=['topic_{}'.format(i) for i in range(200)],\n",
    "                       \n",
    "                       regularizers=[\n",
    "                           artm.DecorrelatorPhiRegularizer(\n",
    "                                            name='Decorr', tau=0.25, \n",
    "                                            class_ids=['@default_class'],\n",
    "                                            topic_names=['topic_{}'.format(i) for i in range(0, 200)]),\n",
    "                           \n",
    "                           artm.SmoothSparsePhiRegularizer(\n",
    "                                            name='SmoothPhi_1', \n",
    "                                            class_ids=['@default_class'],\n",
    "                                            tau=0.15, \n",
    "                                            topic_names=['topic_{}'.format(i) for i in range(0, 200)])\n",
    "                                    ]\n",
    "                        )\n",
    "\n",
    "# не забывайте менять количество топиков в регуляризаторах, они применяются только на тех темах, что заданы"
   ]
  },
  {
   "cell_type": "code",
   "execution_count": 117,
   "metadata": {
    "colab": {},
    "colab_type": "code",
    "collapsed": true,
    "id": "ZXwur8c80YGI"
   },
   "outputs": [],
   "source": [
    "# инициализурем модель словарем\n",
    "model_artm.initialize(dictionary=dictionary, )"
   ]
  },
  {
   "cell_type": "code",
   "execution_count": 118,
   "metadata": {
    "colab": {},
    "colab_type": "code",
    "collapsed": true,
    "id": "M7ofKFaN0YGK"
   },
   "outputs": [],
   "source": [
    "# добавляем метрики\n",
    "model_artm.scores.add(artm.PerplexityScore(name='PerplexityScore',\n",
    "                                                    dictionary=dictionary))\n",
    "model_artm.scores.add(artm.SparsityPhiScore(name='SparsityPhiScore')) # разреженность слов в темах\n",
    "model_artm.scores.add(artm.SparsityThetaScore(name='SparsityThetaScore')) # разреженность тем в доках\n",
    "model_artm.scores.add(artm.TopicKernelScore(name='TopicKernelScore', probability_mass_threshold=0.1)) # когерентность по семантичесим ядрам\n",
    "model_artm.scores.add(artm.TopTokensScore(class_id='@default_class', name='TopTokensScore_1', num_tokens=10)) # топ-n-слов для каждой темы "
   ]
  },
  {
   "cell_type": "markdown",
   "metadata": {
    "colab_type": "text",
    "id": "A7ih3cp10YGM"
   },
   "source": [
    "### Тренируем модель"
   ]
  },
  {
   "cell_type": "markdown",
   "metadata": {
    "colab_type": "text",
    "id": "vkujg5tp0YGN"
   },
   "source": [
    "Пройдемся несколько раз по коллекции, чтобы модель немного сошлась (если доков сильно больше то может быть достаточно и 1 прохода). Для сильно больших коллекций есть fit_online, который обновляется в процессе прохода по коллекции, про него можно почитать в документации."
   ]
  },
  {
   "cell_type": "code",
   "execution_count": 119,
   "metadata": {
    "colab": {},
    "colab_type": "code",
    "collapsed": true,
    "id": "d3UPM4bd0YGO"
   },
   "outputs": [],
   "source": [
    "model_artm.num_document_passes = 2\n",
    "model_artm.fit_offline(batch_vectorizer=batch_vectorizer, num_collection_passes=3)"
   ]
  },
  {
   "cell_type": "code",
   "execution_count": 120,
   "metadata": {
    "colab": {
     "base_uri": "https://localhost:8080/",
     "height": 369
    },
    "colab_type": "code",
    "id": "sJNAHoO30YGR",
    "outputId": "76899387-cbc1-4eac-d62a-882f6e744243"
   },
   "outputs": [
    {
     "name": "stdout",
     "output_type": "stream",
     "text": [
      "Sparsity Phi: 0.000 ARTM)\n",
      "Sparsity Theta: 0.000 (ARTM)\n",
      "Kernel contrast: 0.001 (ARTM)\n",
      "Kernel purity: 0.000 (ARTM)\n",
      "Perplexity: 4723.270 (ARTM)\n"
     ]
    },
    {
     "data": {
      "image/png": "[encoded data removed]",
      "text/plain": [
       "<matplotlib.figure.Figure at 0x17876d908>"
      ]
     },
     "metadata": {},
     "output_type": "display_data"
    }
   ],
   "source": [
    "# посмотрим, что стало с моделью\n",
    "# если график сильно падал на последних итерациях, то можно прогнать обучение ещё несколько раз \n",
    "# (не добавляя другие регуляризаторы)\n",
    "print_measures(model_artm)"
   ]
  },
  {
   "cell_type": "markdown",
   "metadata": {
    "colab_type": "text",
    "id": "ESVQUJm90YGU"
   },
   "source": [
    "Добавим регуляризаторы разреженности тем и документов.\n",
    "\n",
    "Их рекомендуется добавлять после того, как модель уже как-то сошлась. После добавления их рекомендуется постепенно уменьшать, чтобы усиливать разреживание. Их можно применять не ко всем темам, чтобы в каких-то темах собрались все стоп-слова.\n",
    "\n",
    "Можно добавлять их вместе или по отдельности."
   ]
  },
  {
   "cell_type": "code",
   "execution_count": 121,
   "metadata": {
    "colab": {},
    "colab_type": "code",
    "collapsed": true,
    "id": "zx8f5J140YGU"
   },
   "outputs": [],
   "source": [
    "model_artm.regularizers.add(artm.SmoothSparsePhiRegularizer(name='SparsePhi', tau=-0.15, \n",
    "                                                            topic_names=['topic_{}'.format(i) for i in range(1, 200)],\n",
    "                                                            ))\n",
    "model_artm.regularizers.add(artm.SmoothSparseThetaRegularizer(name='SparseTheta', tau=-0.15, \n",
    "                                                              topic_names=['topic_{}'.format(i) for i in range(1, 200)]))"
   ]
  },
  {
   "cell_type": "code",
   "execution_count": 122,
   "metadata": {
    "colab": {},
    "colab_type": "code",
    "collapsed": true,
    "id": "d-XyXPrF0YGX"
   },
   "outputs": [],
   "source": [
    "model_artm.fit_offline(batch_vectorizer=batch_vectorizer,num_collection_passes=1)"
   ]
  },
  {
   "cell_type": "code",
   "execution_count": 123,
   "metadata": {
    "colab": {},
    "colab_type": "code",
    "collapsed": true,
    "id": "CWrgduzK0YGY"
   },
   "outputs": [],
   "source": [
    "# будем постепенно увеличивать значения этих регуляризаторов\n",
    "phi_tau = model_artm.regularizers['SparsePhi'].tau\n",
    "theta_tau = model_artm.regularizers['SparseTheta'].tau\n",
    "\n",
    "for i in range(10):\n",
    "    model_artm.regularizers['SparsePhi'].tau = (phi_tau + (phi_tau*0.5))\n",
    "    model_artm.regularizers['SparseTheta'].tau = (theta_tau + (theta_tau*0.1))\n",
    "    \n",
    "    model_artm.fit_offline(batch_vectorizer=batch_vectorizer,num_collection_passes=1)"
   ]
  },
  {
   "cell_type": "code",
   "execution_count": 124,
   "metadata": {
    "colab": {},
    "colab_type": "code",
    "id": "Nz2ZycN80YGb"
   },
   "outputs": [
    {
     "name": "stdout",
     "output_type": "stream",
     "text": [
      "Sparsity Phi: 0.802 ARTM)\n",
      "Sparsity Theta: 0.122 (ARTM)\n",
      "Kernel contrast: 0.276 (ARTM)\n",
      "Kernel purity: 0.261 (ARTM)\n",
      "Perplexity: 2112.751 (ARTM)\n"
     ]
    },
    {
     "data": {
      "image/png": "[encoded data removed]",
      "text/plain": [
       "<matplotlib.figure.Figure at 0x17b7a0160>"
      ]
     },
     "metadata": {},
     "output_type": "display_data"
    }
   ],
   "source": [
    "# посмотрим на качество\n",
    "print_measures(model_artm)"
   ]
  },
  {
   "cell_type": "markdown",
   "metadata": {
    "colab_type": "text",
    "id": "r0pGwdLb0YGg"
   },
   "source": [
    "Перплексия должна снижаться. Если график выровнился и больше не меняется - модель сошлась. Обычно перплексия хорошей модели около 200-1000. На таком небольшом количестве данных возможно такого значения достичь не получится."
   ]
  },
  {
   "cell_type": "code",
   "execution_count": 125,
   "metadata": {
    "colab": {},
    "colab_type": "code",
    "id": "tDeYG2kt0YGg"
   },
   "outputs": [
    {
     "name": "stdout",
     "output_type": "stream",
     "text": [
      "topic_0: \n",
      "пират\n",
      "капитан\n",
      "дверь\n",
      "страх\n",
      "душа\n",
      "словно\n",
      "дьявол\n",
      "пиратский\n",
      "твой\n",
      "рука\n",
      "---------\n",
      "topic_1: \n",
      "атака\n",
      "уязвимость\n",
      "устройство\n",
      "ноутбук\n",
      "злоумышленник\n",
      "вредоносный\n",
      "защита\n",
      "доллар\n",
      "атаковать\n",
      "уязвимый\n",
      "---------\n",
      "topic_2: \n",
      "человек\n",
      "лекция\n",
      "курс\n",
      "книга\n",
      "день\n",
      "час\n",
      "сказать\n",
      "говорить\n",
      "слово\n",
      "хороший\n",
      "---------\n",
      "topic_3: \n",
      "процесс\n",
      "результат\n",
      "решение\n",
      "являться\n",
      "количество\n",
      "база\n",
      "задача\n",
      "следующий\n",
      "использование\n",
      "связь\n",
      "---------\n",
      "topic_4: \n",
      "процессор\n",
      "инструкция\n",
      "регистр\n",
      "память\n",
      "архитектура\n",
      "ассемблер\n",
      "битный\n",
      "программа\n",
      "компьютер\n",
      "такт\n",
      "---------\n",
      "topic_5: \n",
      "устройство\n",
      "ключ\n",
      "модуль\n",
      "аппаратный\n",
      "pin\n",
      "power\n",
      "управление\n",
      "подпись\n",
      "доступ\n",
      "подключать\n",
      "---------\n",
      "topic_6: \n",
      "пользователь\n",
      "ваш\n",
      "сайт\n",
      "вопрос\n",
      "хороший\n",
      "статья\n",
      "хотеть\n",
      "задача\n",
      "разный\n",
      "использование\n",
      "---------\n",
      "topic_7: \n",
      "sec\n",
      "sum\n",
      "сессия\n",
      "скорость\n",
      "трафик\n",
      "пропускной\n",
      "задержка\n",
      "пакет\n",
      "способность\n",
      "потеря\n",
      "---------\n",
      "topic_8: \n",
      "страница\n",
      "текст\n",
      "перевод\n",
      "ошибка\n",
      "писать\n",
      "окно\n",
      "ссылка\n",
      "код\n",
      "написать\n",
      "часть\n",
      "---------\n",
      "topic_9: \n",
      "точка\n",
      "объект\n",
      "часть\n",
      "вершина\n",
      "программа\n",
      "второй\n",
      "глава\n",
      "алгоритм\n",
      "некоторый\n",
      "aux\n",
      "---------\n"
     ]
    }
   ],
   "source": [
    "# посмотрим на темы\n",
    "for topic_name in model_artm.topic_names[:10]:\n",
    "    print(topic_name + ': ')\n",
    "    try:\n",
    "        for x in model_artm.score_tracker['TopTokensScore_1'].last_tokens[topic_name]:\n",
    "            print(x)\n",
    "        print('---------')\n",
    "    \n",
    "    except KeyError: # можно перекрутить параметры и некоторые темы окажутся пустыми\n",
    "        continue"
   ]
  },
  {
   "cell_type": "code",
   "execution_count": 126,
   "metadata": {
    "collapsed": true
   },
   "outputs": [],
   "source": [
    "import copy\n",
    "texts_copy = copy.copy(texts)"
   ]
  },
  {
   "cell_type": "markdown",
   "metadata": {
    "colab": {},
    "colab_type": "code",
    "collapsed": true,
    "id": "NAUy5VNu0YGi"
   },
   "source": [
    "**н-граммы**"
   ]
  },
  {
   "cell_type": "code",
   "execution_count": 127,
   "metadata": {},
   "outputs": [],
   "source": [
    "ph = gensim.models.Phrases(texts, scoring='npmi', threshold=0.3, \n",
    "                           common_terms=set(stopwords.words('russian'))) # можно указать слова, которые \n",
    "                                                                         # не будут учитываться\n",
    "p = gensim.models.phrases.Phraser(ph)\n",
    "ngrammed_habr_texts = p[texts]"
   ]
  },
  {
   "cell_type": "code",
   "execution_count": 128,
   "metadata": {
    "collapsed": true
   },
   "outputs": [],
   "source": [
    "f = open('habr_texts_ngr.vw', 'w')\n",
    "\n",
    "for i, text in enumerate(ngrammed_habr_texts):\n",
    "    c = Counter(text)\n",
    "    doc = 'doc_' + str(i) + ' '\n",
    "    vw_text = ' '.join([x + ':' + str(c[x]) for x in c])\n",
    "    \n",
    "    f.write(doc + vw_text  + '\\n')\n",
    "f.close()"
   ]
  },
  {
   "cell_type": "code",
   "execution_count": 129,
   "metadata": {
    "collapsed": true
   },
   "outputs": [],
   "source": [
    "batch_vectorizer = artm.BatchVectorizer(data_path='habr_texts_ngr.vw',  # название файла\n",
    "                                        data_format='vowpal_wabbit', # формат файла, у нас vw\n",
    "                                        target_folder='batches', # название папки в которую положаться батчи\n",
    "                                        batch_size=1000) # размер батча, подбирайте под свою память"
   ]
  },
  {
   "cell_type": "code",
   "execution_count": 130,
   "metadata": {
    "collapsed": true
   },
   "outputs": [],
   "source": [
    "batch_vectorizer = artm.BatchVectorizer(data_path='batches', # название папки с батчами\n",
    "                                        data_format='batches') # указываем формат - батчи"
   ]
  },
  {
   "cell_type": "code",
   "execution_count": 131,
   "metadata": {
    "collapsed": true
   },
   "outputs": [],
   "source": [
    "# инициализируем словарь, чтобы сделать модель\n",
    "dictionary = artm.Dictionary()"
   ]
  },
  {
   "cell_type": "code",
   "execution_count": 132,
   "metadata": {},
   "outputs": [
    {
     "data": {
      "text/plain": [
       "artm.Dictionary(name=eb4124ef-f069-46ee-8628-d4093f51cba9, num_entries=19045)"
      ]
     },
     "execution_count": 132,
     "metadata": {},
     "output_type": "execute_result"
    }
   ],
   "source": [
    "dictionary.gather(data_path='batches')\n",
    "dictionary.filter(class_id='@default_class',\n",
    "                  min_df=10, max_df=2000)"
   ]
  },
  {
   "cell_type": "code",
   "execution_count": 133,
   "metadata": {
    "collapsed": true
   },
   "outputs": [],
   "source": [
    "dictionary.save_text('dict_ngr.txt')"
   ]
  },
  {
   "cell_type": "code",
   "execution_count": 134,
   "metadata": {
    "collapsed": true
   },
   "outputs": [],
   "source": [
    "model_artm = artm.ARTM(topic_names=['topic_{}'.format(i) for i in range(200)],\n",
    "                       \n",
    "                       regularizers=[\n",
    "                           artm.DecorrelatorPhiRegularizer(\n",
    "                                            name='Decorr', tau=0.25, \n",
    "                                            class_ids=['@default_class'],\n",
    "                                            topic_names=['topic_{}'.format(i) for i in range(0, 200)]),\n",
    "                           \n",
    "                           artm.SmoothSparsePhiRegularizer(\n",
    "                                            name='SmoothPhi_1', \n",
    "                                            class_ids=['@default_class'],\n",
    "                                            tau=0.15, \n",
    "                                            topic_names=['topic_{}'.format(i) for i in range(0, 200)])\n",
    "                                    ]\n",
    "                        )\n",
    "\n",
    "# не забывайте менять количество топиков в регуляризаторах, они применяются только на тех темах, что заданы"
   ]
  },
  {
   "cell_type": "code",
   "execution_count": 135,
   "metadata": {
    "collapsed": true
   },
   "outputs": [],
   "source": [
    "# инициализурем модель словарем\n",
    "model_artm.initialize(dictionary=dictionary, )"
   ]
  },
  {
   "cell_type": "code",
   "execution_count": 136,
   "metadata": {
    "collapsed": true
   },
   "outputs": [],
   "source": [
    "# добавляем метрики\n",
    "model_artm.scores.add(artm.PerplexityScore(name='PerplexityScore',\n",
    "                                                    dictionary=dictionary))\n",
    "model_artm.scores.add(artm.SparsityPhiScore(name='SparsityPhiScore')) # разреженность слов в темах\n",
    "model_artm.scores.add(artm.SparsityThetaScore(name='SparsityThetaScore')) # разреженность тем в доках\n",
    "model_artm.scores.add(artm.TopicKernelScore(name='TopicKernelScore', probability_mass_threshold=0.1)) # когерентность по семантичесим ядрам\n",
    "model_artm.scores.add(artm.TopTokensScore(class_id='@default_class', name='TopTokensScore_1', num_tokens=10)) # топ-n-слов для каждой темы "
   ]
  },
  {
   "cell_type": "code",
   "execution_count": 137,
   "metadata": {
    "collapsed": true
   },
   "outputs": [],
   "source": [
    "model_artm.num_document_passes = 2\n",
    "model_artm.fit_offline(batch_vectorizer=batch_vectorizer, num_collection_passes=3)"
   ]
  },
  {
   "cell_type": "code",
   "execution_count": 138,
   "metadata": {},
   "outputs": [
    {
     "name": "stdout",
     "output_type": "stream",
     "text": [
      "Sparsity Phi: 0.000 ARTM)\n",
      "Sparsity Theta: 0.000 (ARTM)\n",
      "Kernel contrast: 0.000 (ARTM)\n",
      "Kernel purity: 0.000 (ARTM)\n",
      "Perplexity: 5574.637 (ARTM)\n"
     ]
    },
    {
     "data": {
      "image/png": "[encoded data removed]",
      "text/plain": [
       "<matplotlib.figure.Figure at 0x17a6fe6a0>"
      ]
     },
     "metadata": {},
     "output_type": "display_data"
    }
   ],
   "source": [
    "# посмотрим, что стало с моделью\n",
    "# если график сильно падал на последних итерациях, то можно прогнать обучение ещё несколько раз \n",
    "# (не добавляя другие регуляризаторы)\n",
    "print_measures(model_artm)"
   ]
  },
  {
   "cell_type": "code",
   "execution_count": 139,
   "metadata": {
    "collapsed": true
   },
   "outputs": [],
   "source": [
    "model_artm.regularizers.add(artm.SmoothSparsePhiRegularizer(name='SparsePhi', tau=-0.15, \n",
    "                                                            topic_names=['topic_{}'.format(i) for i in range(1, 200)],\n",
    "                                                            ))\n",
    "model_artm.regularizers.add(artm.SmoothSparseThetaRegularizer(name='SparseTheta', tau=-0.15, \n",
    "                                                              topic_names=['topic_{}'.format(i) for i in range(1, 200)]))"
   ]
  },
  {
   "cell_type": "code",
   "execution_count": 140,
   "metadata": {
    "collapsed": true
   },
   "outputs": [],
   "source": [
    "model_artm.fit_offline(batch_vectorizer=batch_vectorizer,num_collection_passes=1)"
   ]
  },
  {
   "cell_type": "code",
   "execution_count": 141,
   "metadata": {
    "collapsed": true
   },
   "outputs": [],
   "source": [
    "# будем постепенно увеличивать значения этих регуляризаторов\n",
    "phi_tau = model_artm.regularizers['SparsePhi'].tau\n",
    "theta_tau = model_artm.regularizers['SparseTheta'].tau\n",
    "\n",
    "for i in range(10):\n",
    "    model_artm.regularizers['SparsePhi'].tau = (phi_tau + (phi_tau*0.5))\n",
    "    model_artm.regularizers['SparseTheta'].tau = (theta_tau + (theta_tau*0.1))\n",
    "    \n",
    "    model_artm.fit_offline(batch_vectorizer=batch_vectorizer,num_collection_passes=1)"
   ]
  },
  {
   "cell_type": "code",
   "execution_count": 142,
   "metadata": {},
   "outputs": [
    {
     "name": "stdout",
     "output_type": "stream",
     "text": [
      "Sparsity Phi: 0.829 ARTM)\n",
      "Sparsity Theta: 0.120 (ARTM)\n",
      "Kernel contrast: 0.278 (ARTM)\n",
      "Kernel purity: 0.239 (ARTM)\n",
      "Perplexity: 2793.083 (ARTM)\n"
     ]
    },
    {
     "data": {
      "image/png": "[encoded data removed]",
      "text/plain": [
       "<matplotlib.figure.Figure at 0x17ab9b278>"
      ]
     },
     "metadata": {},
     "output_type": "display_data"
    }
   ],
   "source": [
    "# посмотрим на качество\n",
    "print_measures(model_artm)"
   ]
  },
  {
   "cell_type": "markdown",
   "metadata": {},
   "source": [
    "**Перебор значений регуляризаторов**"
   ]
  },
  {
   "cell_type": "code",
   "execution_count": 143,
   "metadata": {
    "collapsed": true
   },
   "outputs": [],
   "source": [
    "num_topics = [50, 200, 300, 500]\n",
    "tau = [0.01, 0.1, 0.15, 0.5]"
   ]
  },
  {
   "cell_type": "markdown",
   "metadata": {},
   "source": [
    "Посмотрим на параметр `tau`, при этом возьмем кол-во тем = 300, а также изменим значение параметра `num_collection_passes` с 3 на 5:"
   ]
  },
  {
   "cell_type": "code",
   "execution_count": 144,
   "metadata": {},
   "outputs": [
    {
     "name": "stdout",
     "output_type": "stream",
     "text": [
      "0.01\n",
      "Sparsity Phi: 0.000 ARTM)\n",
      "Sparsity Theta: 0.000 (ARTM)\n",
      "Kernel contrast: 0.001 (ARTM)\n",
      "Kernel purity: 0.000 (ARTM)\n",
      "Perplexity: 5310.341 (ARTM)\n"
     ]
    },
    {
     "data": {
      "image/png": "[encoded data removed]",
      "text/plain": [
       "<matplotlib.figure.Figure at 0x11f841cf8>"
      ]
     },
     "metadata": {},
     "output_type": "display_data"
    },
    {
     "name": "stdout",
     "output_type": "stream",
     "text": [
      "0.1\n",
      "Sparsity Phi: 0.000 ARTM)\n",
      "Sparsity Theta: 0.000 (ARTM)\n",
      "Kernel contrast: 0.000 (ARTM)\n",
      "Kernel purity: 0.000 (ARTM)\n",
      "Perplexity: 5561.088 (ARTM)\n"
     ]
    },
    {
     "data": {
      "image/png": "[encoded data removed]",
      "text/plain": [
       "<matplotlib.figure.Figure at 0x17be55630>"
      ]
     },
     "metadata": {},
     "output_type": "display_data"
    },
    {
     "name": "stdout",
     "output_type": "stream",
     "text": [
      "0.15\n",
      "Sparsity Phi: 0.000 ARTM)\n",
      "Sparsity Theta: 0.000 (ARTM)\n",
      "Kernel contrast: 0.000 (ARTM)\n",
      "Kernel purity: 0.000 (ARTM)\n",
      "Perplexity: 5733.778 (ARTM)\n"
     ]
    },
    {
     "data": {
      "image/png": "[encoded data removed]",
      "text/plain": [
       "<matplotlib.figure.Figure at 0x17aac60b8>"
      ]
     },
     "metadata": {},
     "output_type": "display_data"
    },
    {
     "name": "stdout",
     "output_type": "stream",
     "text": [
      "0.5\n",
      "Sparsity Phi: 0.000 ARTM)\n",
      "Sparsity Theta: 0.000 (ARTM)\n",
      "Kernel contrast: 0.000 (ARTM)\n",
      "Kernel purity: 0.000 (ARTM)\n",
      "Perplexity: 6918.018 (ARTM)\n"
     ]
    },
    {
     "data": {
      "image/png": "[encoded data removed]",
      "text/plain": [
       "<matplotlib.figure.Figure at 0x14ed4d898>"
      ]
     },
     "metadata": {},
     "output_type": "display_data"
    }
   ],
   "source": [
    "for value in tau:\n",
    "    model_artm = artm.ARTM(topic_names=['topic_{}'.format(i) for i in range(300)],\n",
    "\n",
    "                       regularizers=[\n",
    "                           artm.DecorrelatorPhiRegularizer(\n",
    "                                            name='Decorr', tau=value, \n",
    "                                            class_ids=['@default_class'],\n",
    "                                            topic_names=['topic_{}'.format(i) for i in range(0, 300)]),\n",
    "\n",
    "                           artm.SmoothSparsePhiRegularizer(\n",
    "                                            name='SmoothPhi_1', \n",
    "                                            class_ids=['@default_class'],\n",
    "                                            tau=value, \n",
    "                                            topic_names=['topic_{}'.format(i) for i in range(0, 300)])\n",
    "                                    ]\n",
    "                        )\n",
    "    model_artm.initialize(dictionary=dictionary, )\n",
    "\n",
    "    model_artm.scores.add(artm.PerplexityScore(name='PerplexityScore',\n",
    "                                                        dictionary=dictionary))\n",
    "    model_artm.scores.add(artm.SparsityPhiScore(name='SparsityPhiScore')) # разреженность слов в темах\n",
    "    model_artm.scores.add(artm.SparsityThetaScore(name='SparsityThetaScore')) # разреженность тем в доках\n",
    "    model_artm.scores.add(artm.TopicKernelScore(name='TopicKernelScore', probability_mass_threshold=0.1)) # когерентность по семантичесим ядрам\n",
    "    model_artm.scores.add(artm.TopTokensScore(class_id='@default_class', name='TopTokensScore_1', num_tokens=10)) # топ-n-слов для каждой темы \n",
    "\n",
    "    model_artm.num_document_passes = 2\n",
    "    model_artm.fit_offline(batch_vectorizer=batch_vectorizer, num_collection_passes=5)\n",
    "    print(value)\n",
    "    print_measures(model_artm)"
   ]
  },
  {
   "cell_type": "markdown",
   "metadata": {},
   "source": [
    "Таким образом, далее будем работать с `tau=0.01`"
   ]
  },
  {
   "cell_type": "markdown",
   "metadata": {},
   "source": [
    "`num_topics`"
   ]
  },
  {
   "cell_type": "code",
   "execution_count": 145,
   "metadata": {},
   "outputs": [
    {
     "name": "stdout",
     "output_type": "stream",
     "text": [
      "50\n",
      "Sparsity Phi: 0.000 ARTM)\n",
      "Sparsity Theta: 0.000 (ARTM)\n",
      "Kernel contrast: 0.075 (ARTM)\n",
      "Kernel purity: 0.002 (ARTM)\n",
      "Perplexity: 5290.099 (ARTM)\n"
     ]
    },
    {
     "data": {
      "image/png": "[encoded data removed]",
      "text/plain": [
       "<matplotlib.figure.Figure at 0x138fc1470>"
      ]
     },
     "metadata": {},
     "output_type": "display_data"
    },
    {
     "name": "stdout",
     "output_type": "stream",
     "text": [
      "200\n",
      "Sparsity Phi: 0.000 ARTM)\n",
      "Sparsity Theta: 0.000 (ARTM)\n",
      "Kernel contrast: 0.003 (ARTM)\n",
      "Kernel purity: 0.000 (ARTM)\n",
      "Perplexity: 5301.029 (ARTM)\n"
     ]
    },
    {
     "data": {
      "image/png": "[encoded data removed]",
      "text/plain": [
       "<matplotlib.figure.Figure at 0x150bdb0f0>"
      ]
     },
     "metadata": {},
     "output_type": "display_data"
    },
    {
     "name": "stdout",
     "output_type": "stream",
     "text": [
      "300\n",
      "Sparsity Phi: 0.000 ARTM)\n",
      "Sparsity Theta: 0.000 (ARTM)\n",
      "Kernel contrast: 0.001 (ARTM)\n",
      "Kernel purity: 0.000 (ARTM)\n",
      "Perplexity: 5310.341 (ARTM)\n"
     ]
    },
    {
     "data": {
      "image/png": "[encoded data removed]",
      "text/plain": [
       "<matplotlib.figure.Figure at 0x14fb1db38>"
      ]
     },
     "metadata": {},
     "output_type": "display_data"
    },
    {
     "name": "stdout",
     "output_type": "stream",
     "text": [
      "500\n",
      "Sparsity Phi: 0.000 ARTM)\n",
      "Sparsity Theta: 0.000 (ARTM)\n",
      "Kernel contrast: 0.000 (ARTM)\n",
      "Kernel purity: 0.000 (ARTM)\n",
      "Perplexity: 5322.930 (ARTM)\n"
     ]
    },
    {
     "data": {
      "image/png": "[encoded data removed]",
      "text/plain": [
       "<matplotlib.figure.Figure at 0x14f4e79b0>"
      ]
     },
     "metadata": {},
     "output_type": "display_data"
    }
   ],
   "source": [
    "for value in num_topics:\n",
    "    model_artm = artm.ARTM(topic_names=['topic_{}'.format(i) for i in range(value)],\n",
    "\n",
    "                       regularizers=[\n",
    "                           artm.DecorrelatorPhiRegularizer(\n",
    "                                            name='Decorr', tau=0.01, \n",
    "                                            class_ids=['@default_class'],\n",
    "                                            topic_names=['topic_{}'.format(i) for i in range(0, value)]),\n",
    "\n",
    "                           artm.SmoothSparsePhiRegularizer(\n",
    "                                            name='SmoothPhi_1', \n",
    "                                            class_ids=['@default_class'],\n",
    "                                            tau=0.01, \n",
    "                                            topic_names=['topic_{}'.format(i) for i in range(0, value)])\n",
    "                                    ]\n",
    "                        )\n",
    "    model_artm.initialize(dictionary=dictionary, )\n",
    "\n",
    "    model_artm.scores.add(artm.PerplexityScore(name='PerplexityScore',\n",
    "                                                        dictionary=dictionary))\n",
    "    model_artm.scores.add(artm.SparsityPhiScore(name='SparsityPhiScore')) # разреженность слов в темах\n",
    "    model_artm.scores.add(artm.SparsityThetaScore(name='SparsityThetaScore')) # разреженность тем в доках\n",
    "    model_artm.scores.add(artm.TopicKernelScore(name='TopicKernelScore', probability_mass_threshold=0.1)) # когерентность по семантичесим ядрам\n",
    "    model_artm.scores.add(artm.TopTokensScore(class_id='@default_class', name='TopTokensScore_1', num_tokens=10)) # топ-n-слов для каждой темы \n",
    "\n",
    "    model_artm.num_document_passes = 2\n",
    "    model_artm.fit_offline(batch_vectorizer=batch_vectorizer, num_collection_passes=5)\n",
    "    print(value)\n",
    "    print_measures(model_artm)"
   ]
  },
  {
   "cell_type": "markdown",
   "metadata": {},
   "source": [
    "`num_topics` = 50"
   ]
  },
  {
   "cell_type": "code",
   "execution_count": 165,
   "metadata": {},
   "outputs": [
    {
     "name": "stdout",
     "output_type": "stream",
     "text": [
      "Sparsity Phi: 0.000 ARTM)\n",
      "Sparsity Theta: 0.000 (ARTM)\n",
      "Kernel contrast: 0.075 (ARTM)\n",
      "Kernel purity: 0.002 (ARTM)\n",
      "Perplexity: 5290.099 (ARTM)\n"
     ]
    },
    {
     "data": {
      "image/png": "[encoded data removed]",
      "text/plain": [
       "<matplotlib.figure.Figure at 0x17b0f0e80>"
      ]
     },
     "metadata": {},
     "output_type": "display_data"
    }
   ],
   "source": [
    "model_artm = artm.ARTM(topic_names=['topic_{}'.format(i) for i in range(50)],\n",
    "\n",
    "                       regularizers=[\n",
    "                           artm.DecorrelatorPhiRegularizer(\n",
    "                                            name='Decorr', tau=0.01, \n",
    "                                            class_ids=['@default_class'],\n",
    "                                            topic_names=['topic_{}'.format(i) for i in range(0, 50)]),\n",
    "\n",
    "                           artm.SmoothSparsePhiRegularizer(\n",
    "                                            name='SmoothPhi_1', \n",
    "                                            class_ids=['@default_class'],\n",
    "                                            tau=0.01, \n",
    "                                            topic_names=['topic_{}'.format(i) for i in range(0, 50)])\n",
    "                                    ]\n",
    "                        )\n",
    "model_artm.initialize(dictionary=dictionary, )\n",
    "\n",
    "model_artm.scores.add(artm.PerplexityScore(name='PerplexityScore',\n",
    "                                                    dictionary=dictionary))\n",
    "model_artm.scores.add(artm.SparsityPhiScore(name='SparsityPhiScore')) # разреженность слов в темах\n",
    "model_artm.scores.add(artm.SparsityThetaScore(name='SparsityThetaScore')) # разреженность тем в доках\n",
    "model_artm.scores.add(artm.TopicKernelScore(name='TopicKernelScore', probability_mass_threshold=0.1)) # когерентность по семантичесим ядрам\n",
    "model_artm.scores.add(artm.TopTokensScore(class_id='@default_class', name='TopTokensScore_1', num_tokens=10)) # топ-n-слов для каждой темы \n",
    "\n",
    "model_artm.num_document_passes = 2\n",
    "model_artm.fit_offline(batch_vectorizer=batch_vectorizer, num_collection_passes=5)\n",
    "print_measures(model_artm)"
   ]
  },
  {
   "cell_type": "code",
   "execution_count": 150,
   "metadata": {
    "collapsed": true
   },
   "outputs": [],
   "source": [
    "model_artm.regularizers.add(artm.SmoothSparsePhiRegularizer(name='SparsePhi', tau=-0.15, \n",
    "                                                            topic_names=['topic_{}'.format(i) for i in range(1, 50)],\n",
    "                                                            ))\n",
    "model_artm.regularizers.add(artm.SmoothSparseThetaRegularizer(name='SparseTheta', tau=-0.15, \n",
    "                                                              topic_names=['topic_{}'.format(i) for i in range(1, 50)]))"
   ]
  },
  {
   "cell_type": "code",
   "execution_count": 151,
   "metadata": {},
   "outputs": [],
   "source": [
    "model_artm.fit_offline(batch_vectorizer=batch_vectorizer,num_collection_passes=5)"
   ]
  },
  {
   "cell_type": "code",
   "execution_count": 152,
   "metadata": {
    "collapsed": true
   },
   "outputs": [],
   "source": [
    "# будем постепенно увеличивать значения этих регуляризаторов\n",
    "phi_tau = model_artm.regularizers['SparsePhi'].tau\n",
    "theta_tau = model_artm.regularizers['SparseTheta'].tau\n",
    "\n",
    "for i in range(10):\n",
    "    model_artm.regularizers['SparsePhi'].tau = (phi_tau + (phi_tau*0.5))\n",
    "    model_artm.regularizers['SparseTheta'].tau = (theta_tau + (theta_tau*0.1))\n",
    "    \n",
    "    model_artm.fit_offline(batch_vectorizer=batch_vectorizer,num_collection_passes=5)"
   ]
  },
  {
   "cell_type": "code",
   "execution_count": 153,
   "metadata": {},
   "outputs": [
    {
     "name": "stdout",
     "output_type": "stream",
     "text": [
      "Sparsity Phi: 0.912 ARTM)\n",
      "Sparsity Theta: 0.060 (ARTM)\n",
      "Kernel contrast: 0.431 (ARTM)\n",
      "Kernel purity: 0.770 (ARTM)\n",
      "Perplexity: 2849.682 (ARTM)\n"
     ]
    },
    {
     "data": {
      "image/png": "[encoded data removed]",
      "text/plain": [
       "<matplotlib.figure.Figure at 0x17bbc6748>"
      ]
     },
     "metadata": {},
     "output_type": "display_data"
    }
   ],
   "source": [
    "# посмотрим на качество\n",
    "print_measures(model_artm)"
   ]
  },
  {
   "cell_type": "markdown",
   "metadata": {},
   "source": [
    "**Предобработка + лучшие параметры - нграммы**"
   ]
  },
  {
   "cell_type": "code",
   "execution_count": 180,
   "metadata": {
    "collapsed": true
   },
   "outputs": [],
   "source": [
    "dictionary = artm.Dictionary()\n",
    "dictionary.load_text('dict.txt')"
   ]
  },
  {
   "cell_type": "code",
   "execution_count": 206,
   "metadata": {},
   "outputs": [],
   "source": [
    "model_artm = artm.ARTM(topic_names=['topic_{}'.format(i) for i in range(200)],\n",
    "                       \n",
    "                       regularizers=[\n",
    "                           artm.DecorrelatorPhiRegularizer(\n",
    "                                            name='Decorr', tau=0.25, \n",
    "                                            class_ids=['@default_class'],\n",
    "                                            topic_names=['topic_{}'.format(i) for i in range(0, 200)]),\n",
    "                           \n",
    "                           artm.SmoothSparsePhiRegularizer(\n",
    "                                            name='SmoothPhi_1', \n",
    "                                            class_ids=['@default_class'],\n",
    "                                            tau=0.15, \n",
    "                                            topic_names=['topic_{}'.format(i) for i in range(0, 200)])\n",
    "                                    ]\n",
    "                        )\n",
    "\n",
    "# не забывайте менять количество топиков в регуляризаторах, они применяются только на тех темах, что заданы"
   ]
  },
  {
   "cell_type": "code",
   "execution_count": 207,
   "metadata": {
    "collapsed": true
   },
   "outputs": [],
   "source": [
    "model_artm.initialize(dictionary=dictionary, )"
   ]
  },
  {
   "cell_type": "code",
   "execution_count": 208,
   "metadata": {
    "collapsed": true
   },
   "outputs": [],
   "source": [
    "# добавляем метрики\n",
    "model_artm.scores.add(artm.PerplexityScore(name='PerplexityScore',\n",
    "                                                    dictionary=dictionary))\n",
    "model_artm.scores.add(artm.SparsityPhiScore(name='SparsityPhiScore')) # разреженность слов в темах\n",
    "model_artm.scores.add(artm.SparsityThetaScore(name='SparsityThetaScore')) # разреженность тем в доках\n",
    "model_artm.scores.add(artm.TopicKernelScore(name='TopicKernelScore', probability_mass_threshold=0.1)) # когерентность по семантичесим ядрам\n",
    "model_artm.scores.add(artm.TopTokensScore(class_id='@default_class', name='TopTokensScore_1', num_tokens=10)) # топ-n-слов для каждой темы "
   ]
  },
  {
   "cell_type": "code",
   "execution_count": 209,
   "metadata": {},
   "outputs": [
    {
     "name": "stdout",
     "output_type": "stream",
     "text": [
      "Sparsity Phi: 0.000 ARTM)\n",
      "Sparsity Theta: 0.000 (ARTM)\n",
      "Kernel contrast: 0.000 (ARTM)\n",
      "Kernel purity: 0.000 (ARTM)\n",
      "Perplexity: 4542.096 (ARTM)\n"
     ]
    },
    {
     "data": {
      "image/png": "[encoded data removed]",
      "text/plain": [
       "<matplotlib.figure.Figure at 0x14f99e6a0>"
      ]
     },
     "metadata": {},
     "output_type": "display_data"
    }
   ],
   "source": [
    "model_artm.num_document_passes = 2\n",
    "model_artm.fit_offline(batch_vectorizer=batch_vectorizer, num_collection_passes=5)\n",
    "print_measures(model_artm)"
   ]
  },
  {
   "cell_type": "code",
   "execution_count": 189,
   "metadata": {
    "collapsed": true
   },
   "outputs": [],
   "source": [
    "model_artm.regularizers.add(artm.SmoothSparsePhiRegularizer(name='SparsePhi', tau=-0.15, \n",
    "                                                            topic_names=['topic_{}'.format(i) for i in range(1, 50)],\n",
    "                                                            ))\n",
    "model_artm.regularizers.add(artm.SmoothSparseThetaRegularizer(name='SparseTheta', tau=-0.15, \n",
    "                                                              topic_names=['topic_{}'.format(i) for i in range(1, 50)]))"
   ]
  },
  {
   "cell_type": "code",
   "execution_count": 190,
   "metadata": {
    "collapsed": true
   },
   "outputs": [],
   "source": [
    "model_artm.fit_offline(batch_vectorizer=batch_vectorizer,num_collection_passes=5)"
   ]
  },
  {
   "cell_type": "code",
   "execution_count": 191,
   "metadata": {
    "collapsed": true
   },
   "outputs": [],
   "source": [
    "# будем постепенно увеличивать значения этих регуляризаторов\n",
    "phi_tau = model_artm.regularizers['SparsePhi'].tau\n",
    "theta_tau = model_artm.regularizers['SparseTheta'].tau\n",
    "\n",
    "for i in range(10):\n",
    "    model_artm.regularizers['SparsePhi'].tau = (phi_tau + (phi_tau*0.5))\n",
    "    model_artm.regularizers['SparseTheta'].tau = (theta_tau + (theta_tau*0.1))\n",
    "    \n",
    "    model_artm.fit_offline(batch_vectorizer=batch_vectorizer,num_collection_passes=5)"
   ]
  },
  {
   "cell_type": "code",
   "execution_count": 192,
   "metadata": {},
   "outputs": [
    {
     "name": "stdout",
     "output_type": "stream",
     "text": [
      "Sparsity Phi: 0.237 ARTM)\n",
      "Sparsity Theta: 0.052 (ARTM)\n",
      "Kernel contrast: 0.202 (ARTM)\n",
      "Kernel purity: 0.328 (ARTM)\n",
      "Perplexity: 2147.427 (ARTM)\n"
     ]
    },
    {
     "data": {
      "image/png": "[encoded data removed]",
      "text/plain": [
       "<matplotlib.figure.Figure at 0x17b2d9a20>"
      ]
     },
     "metadata": {},
     "output_type": "display_data"
    }
   ],
   "source": [
    "# посмотрим на качество\n",
    "print_measures(model_artm)"
   ]
  },
  {
   "cell_type": "markdown",
   "metadata": {},
   "source": [
    "**Изменим значение `tau_sparse`**"
   ]
  },
  {
   "cell_type": "code",
   "execution_count": 210,
   "metadata": {
    "collapsed": true
   },
   "outputs": [],
   "source": [
    "model_artm.regularizers.add(artm.SmoothSparsePhiRegularizer(name='SparsePhi', tau=-0.1, \n",
    "                                                            topic_names=['topic_{}'.format(i) for i in range(1, 50)],\n",
    "                                                            ))\n",
    "model_artm.regularizers.add(artm.SmoothSparseThetaRegularizer(name='SparseTheta', tau=-0.1, \n",
    "                                                              topic_names=['topic_{}'.format(i) for i in range(1, 50)]))"
   ]
  },
  {
   "cell_type": "code",
   "execution_count": 211,
   "metadata": {
    "collapsed": true
   },
   "outputs": [],
   "source": [
    "model_artm.fit_offline(batch_vectorizer=batch_vectorizer,num_collection_passes=5)"
   ]
  },
  {
   "cell_type": "code",
   "execution_count": 212,
   "metadata": {
    "collapsed": true
   },
   "outputs": [],
   "source": [
    "# будем постепенно увеличивать значения этих регуляризаторов\n",
    "phi_tau = model_artm.regularizers['SparsePhi'].tau\n",
    "theta_tau = model_artm.regularizers['SparseTheta'].tau\n",
    "\n",
    "for i in range(10):\n",
    "    model_artm.regularizers['SparsePhi'].tau = (phi_tau + (phi_tau*0.5))\n",
    "    model_artm.regularizers['SparseTheta'].tau = (theta_tau + (theta_tau*0.1))\n",
    "    \n",
    "    model_artm.fit_offline(batch_vectorizer=batch_vectorizer,num_collection_passes=5)"
   ]
  },
  {
   "cell_type": "code",
   "execution_count": 213,
   "metadata": {},
   "outputs": [
    {
     "name": "stdout",
     "output_type": "stream",
     "text": [
      "Sparsity Phi: 0.183 ARTM)\n",
      "Sparsity Theta: 0.042 (ARTM)\n",
      "Kernel contrast: 0.218 (ARTM)\n",
      "Kernel purity: 0.338 (ARTM)\n",
      "Perplexity: 2079.903 (ARTM)\n"
     ]
    },
    {
     "data": {
      "image/png": "[encoded data removed]",
      "text/plain": [
       "<matplotlib.figure.Figure at 0x17b77c2b0>"
      ]
     },
     "metadata": {},
     "output_type": "display_data"
    }
   ],
   "source": [
    "# посмотрим на качество\n",
    "print_measures(model_artm)"
   ]
  },
  {
   "cell_type": "markdown",
   "metadata": {},
   "source": [
    "Получили лучший результат."
   ]
  },
  {
   "cell_type": "code",
   "execution_count": 195,
   "metadata": {},
   "outputs": [
    {
     "name": "stdout",
     "output_type": "stream",
     "text": [
      "topic_0: \n",
      "состояние\n",
      "механизм\n",
      "state\n",
      "иерархия\n",
      "изменение\n",
      "режим\n",
      "сохранять\n",
      "активный\n",
      "изменяться\n",
      "поведение\n",
      "---------\n",
      "topic_1: \n",
      "безопасность\n",
      "защита\n",
      "атака\n",
      "письмо\n",
      "уязвимость\n",
      "защищать\n",
      "злоумышленник\n",
      "служба\n",
      "угроза\n",
      "информация\n",
      "---------\n",
      "topic_2: \n",
      "книга\n",
      "курс\n",
      "ребенок\n",
      "навык\n",
      "студент\n",
      "обучение\n",
      "школа\n",
      "читать\n",
      "лекция\n",
      "учиться\n",
      "---------\n",
      "topic_3: \n",
      "событие\n",
      "канал\n",
      "оператор\n",
      "номер\n",
      "текущий\n",
      "вызов\n",
      "передавать\n",
      "секунда\n",
      "звонок\n",
      "определенный\n",
      "---------\n",
      "topic_4: \n",
      "память\n",
      "ядро\n",
      "процессор\n",
      "производительность\n",
      "оптимизация\n",
      "инструкция\n",
      "байт\n",
      "бит\n",
      "intel\n",
      "регистр\n",
      "---------\n",
      "topic_5: \n",
      "модуль\n",
      "блок\n",
      "управление\n",
      "контроллер\n",
      "использоваться\n",
      "управлять\n",
      "набор\n",
      "зависимость\n",
      "дополнительный\n",
      "стандартный\n",
      "---------\n",
      "topic_6: \n",
      "ваш\n",
      "дизайн\n",
      "выбирать\n",
      "хотеть\n",
      "хороший\n",
      "помогать\n",
      "совет\n",
      "дизайнер\n",
      "тема\n",
      "предлагать\n",
      "---------\n",
      "topic_7: \n",
      "задача\n",
      "команда\n",
      "выполнять\n",
      "менеджер\n",
      "цель\n",
      "оценка\n",
      "планирование\n",
      "процесс\n",
      "результат\n",
      "выполнение\n",
      "---------\n",
      "topic_8: \n",
      "клиент\n",
      "перевод\n",
      "вопрос\n",
      "заявка\n",
      "crm\n",
      "локализация\n",
      "переводить\n",
      "отвечать\n",
      "клиентский\n",
      "контакт\n",
      "---------\n",
      "topic_9: \n",
      "алгоритм\n",
      "точка\n",
      "координата\n",
      "дерево\n",
      "линия\n",
      "путь\n",
      "угол\n",
      "расстояние\n",
      "направление\n",
      "находить\n",
      "---------\n",
      "topic_10: \n",
      "необходимо\n",
      "следующий\n",
      "проверка\n",
      "документ\n",
      "рассматривать\n",
      "поле\n",
      "необходимый\n",
      "либо\n",
      "получение\n",
      "проверять\n",
      "---------\n",
      "topic_11: \n",
      "диск\n",
      "хранилище\n",
      "кластер\n",
      "виртуальный\n",
      "хост\n",
      "восстановление\n",
      "администратор\n",
      "хранение\n",
      "storage\n",
      "узел\n",
      "---------\n",
      "topic_12: \n",
      "сайт\n",
      "ресурс\n",
      "браузер\n",
      "домен\n",
      "транзакция\n",
      "заголовок\n",
      "блокировка\n",
      "http\n",
      "поиск\n",
      "контент\n",
      "---------\n",
      "topic_13: \n",
      "цена\n",
      "товар\n",
      "продажа\n",
      "стоимость\n",
      "покупка\n",
      "магазин\n",
      "заказ\n",
      "покупатель\n",
      "скидка\n",
      "купить\n",
      "---------\n",
      "topic_14: \n",
      "код\n",
      "функция\n",
      "являться\n",
      "вызывать\n",
      "реализация\n",
      "использование\n",
      "вызов\n",
      "выполнять\n",
      "метод\n",
      "подход\n",
      "---------\n",
      "topic_15: \n",
      "число\n",
      "количество\n",
      "результат\n",
      "значение\n",
      "равный\n",
      "цифра\n",
      "средний\n",
      "формула\n",
      "показатель\n",
      "распределение\n",
      "---------\n",
      "topic_16: \n",
      "проект\n",
      "разработка\n",
      "создание\n",
      "разрабатывать\n",
      "готовый\n",
      "прототип\n",
      "проектирование\n",
      "этап\n",
      "основной\n",
      "опыт\n",
      "---------\n",
      "topic_17: \n",
      "сервис\n",
      "технология\n",
      "продукт\n",
      "платформа\n",
      "развитие\n",
      "подход\n",
      "основа\n",
      "разрабатывать\n",
      "сегодня\n",
      "создание\n",
      "---------\n",
      "topic_18: \n",
      "пользователь\n",
      "доступ\n",
      "контент\n",
      "facebook\n",
      "группа\n",
      "информация\n",
      "пользовательский\n",
      "взаимодействие\n",
      "подписка\n",
      "аккаунт\n",
      "---------\n",
      "topic_19: \n",
      "сервер\n",
      "адрес\n",
      "протокол\n",
      "соединение\n",
      "порт\n",
      "маршрутизатор\n",
      "маршрут\n",
      "шлюз\n",
      "vpn\n",
      "настройка\n",
      "---------\n",
      "topic_20: \n",
      "инфраструктура\n",
      "оборудование\n",
      "заказчик\n",
      "облако\n",
      "организация\n",
      "услуга\n",
      "ита\n",
      "ресурс\n",
      "обеспечивать\n",
      "бизнес\n",
      "---------\n",
      "topic_21: \n",
      "name\n",
      "string\n",
      "type\n",
      "null\n",
      "end\n",
      "set\n",
      "result\n",
      "true\n",
      "count\n",
      "new\n",
      "---------\n",
      "topic_22: \n",
      "сообщение\n",
      "отправлять\n",
      "бот\n",
      "отправка\n",
      "друг\n",
      "чат\n",
      "telegram\n",
      "общение\n",
      "приходить\n",
      "мессенджер\n",
      "---------\n",
      "topic_23: \n",
      "понимать\n",
      "хотеть\n",
      "писать\n",
      "видеть\n",
      "знать\n",
      "написать\n",
      "ответ\n",
      "смотреть\n",
      "посмотреть\n",
      "ничто\n",
      "---------\n",
      "topic_24: \n",
      "операция\n",
      "глаз\n",
      "пациент\n",
      "лаборатория\n",
      "затем\n",
      "метод\n",
      "врач\n",
      "помогать\n",
      "современный\n",
      "лазер\n",
      "---------\n",
      "topic_25: \n",
      "модель\n",
      "материал\n",
      "печать\n",
      "принтер\n",
      "создание\n",
      "качество\n",
      "моделирование\n",
      "различный\n",
      "бумага\n",
      "использоваться\n",
      "---------\n",
      "topic_26: \n",
      "исследование\n",
      "мозг\n",
      "ученый\n",
      "исследователь\n",
      "говорить\n",
      "эксперимент\n",
      "изучать\n",
      "животное\n",
      "обнаруживать\n",
      "результат\n",
      "---------\n",
      "topic_27: \n",
      "датчик\n",
      "плата\n",
      "схема\n",
      "корпус\n",
      "питание\n",
      "напряжение\n",
      "мощность\n",
      "режим\n",
      "аккумулятор\n",
      "кнопка\n",
      "---------\n",
      "topic_28: \n",
      "человек\n",
      "сотрудник\n",
      "специалист\n",
      "офис\n",
      "говорить\n",
      "считать\n",
      "коллега\n",
      "заниматься\n",
      "опыт\n",
      "часто\n",
      "---------\n",
      "topic_29: \n",
      "язык\n",
      "программист\n",
      "программирование\n",
      "знание\n",
      "сложный\n",
      "писать\n",
      "многий\n",
      "написать\n",
      "хороший\n",
      "часто\n",
      "---------\n"
     ]
    }
   ],
   "source": [
    "# посмотрим на темы\n",
    "for topic_name in model_artm.topic_names[:30]:\n",
    "    print(topic_name + ': ')\n",
    "    try:\n",
    "        for x in model_artm.score_tracker['TopTokensScore_1'].last_tokens[topic_name]:\n",
    "            print(x)\n",
    "        print('---------')\n",
    "    \n",
    "    except KeyError: # можно перекрутить параметры и некоторые темы окажутся пустыми\n",
    "        continue"
   ]
  },
  {
   "cell_type": "markdown",
   "metadata": {},
   "source": [
    "**3 темы:**"
   ]
  },
  {
   "cell_type": "markdown",
   "metadata": {},
   "source": [
    "**topic_13:**\n",
    "цена\n",
    "товар\n",
    "продажа\n",
    "стоимость\n",
    "покупка\n",
    "магазин\n",
    "заказ\n",
    "покупатель\n",
    "скидка\n",
    "купить\n",
    "\n",
    "**topic_22:**\n",
    "сообщение\n",
    "отправлять\n",
    "бот\n",
    "отправка\n",
    "друг\n",
    "чат\n",
    "telegram\n",
    "общение\n",
    "приходить\n",
    "мессенджер\n",
    "\n",
    "**topic_26:**\n",
    "исследование\n",
    "мозг\n",
    "ученый\n",
    "исследователь\n",
    "говорить\n",
    "эксперимент\n",
    "изучать\n",
    "животное\n",
    "обнаруживать\n",
    "результат"
   ]
  },
  {
   "cell_type": "markdown",
   "metadata": {},
   "source": [
    "**Таким образом:**"
   ]
  },
  {
   "cell_type": "markdown",
   "metadata": {},
   "source": [
    "- изменили предобработку и почистили словарь\n",
    "- подобрали оптимальное количество тем (`num_topics=50`)\n",
    "- подобрали оптимальное значение `tau` (`tau=0.01`)\n",
    "- подобрали оптимальное значение `tau_sparse` (`tau=-0.1`)\n",
    "- подобрали оптимальное значение `num_collection_passes` (`num_collection_passes=5`)\n",
    "- при уменьшении значений `Phi` и `Theta` качество ухудшается"
   ]
  },
  {
   "cell_type": "markdown",
   "metadata": {},
   "source": [
    "**Лучший результат**"
   ]
  },
  {
   "cell_type": "markdown",
   "metadata": {},
   "source": [
    "`Sparsity Phi: 0.183 (ARTM)\n",
    "Sparsity Theta: 0.042 (ARTM)\n",
    "Kernel contrast: 0.218 (ARTM)\n",
    "Kernel purity: 0.338 (ARTM)\n",
    "Perplexity: 2079.903 (ARTM)`"
   ]
  },
  {
   "cell_type": "code",
   "execution_count": null,
   "metadata": {
    "collapsed": true
   },
   "outputs": [],
   "source": []
  }
 ],
 "metadata": {
  "colab": {
   "name": "SEMINAR_2_Topic_model_BigARTM.ipynb",
   "provenance": [],
   "version": "0.3.2"
  },
  "kernelspec": {
   "display_name": "Python 3",
   "language": "python",
   "name": "python3"
  },
  "language_info": {
   "codemirror_mode": {
    "name": "ipython",
    "version": 3
   },
   "file_extension": ".py",
   "mimetype": "text/x-python",
   "name": "python",
   "nbconvert_exporter": "python",
   "pygments_lexer": "ipython3",
   "version": "3.6.3"
  }
 },
 "nbformat": 4,
 "nbformat_minor": 1
}
